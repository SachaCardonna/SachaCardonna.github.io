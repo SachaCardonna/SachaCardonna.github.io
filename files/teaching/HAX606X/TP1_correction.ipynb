{
 "cells": [
  {
   "cell_type": "markdown",
   "metadata": {},
   "source": [
    "<div style=\"text-align: center;\">\n",
    "    <h1><b>Practical Work 1 : optimization techniques in 1D</b></h1>\n",
    "</div>\n",
    "\n",
    "*Authored in 2025 for educational purpose by S. Cardonna, V. Lleras & F. Marche. If you identify any issues or have suggestions for improvement, feel free to contact me.*  \n",
    "  \n",
    "**Introduction**  \n",
    "For this first practical work, we implement three optimization techniques for finding the minimum of a unimodal function on a given interval:\n",
    "- Dichotomy method;\n",
    "- Newton's method;\n",
    "- Golden Section method.  \n",
    "\n",
    "Each method will be implemented step-by-step and applied to specific examples. A final comparison highlight their differences in efficiency and convergence."
   ]
  },
  {
   "cell_type": "markdown",
   "metadata": {},
   "source": [
    "**Definition (unimodality)**  \n",
    "A function $f\\in\\mathcal{C}^0$ is unimodal over $I:=[a, b]$, if\n",
    "- $f$ has a unique minimum on $I$, denoted by $x^*$;\n",
    "- $f$ is strictly decreasing on $[a, x^*]$ and strictly increasing on $[x^*, b]$.\n",
    "    "
   ]
  },
  {
   "cell_type": "markdown",
   "metadata": {},
   "source": [
    "**Proposition**  \n",
    "If $f$ is strictly convex over $I$, and attain its maximum at a point $x^*\\in \\mathring{I}$, then $f$ is unimodal on $I$."
   ]
  },
  {
   "cell_type": "markdown",
   "metadata": {},
   "source": [
    "<div style=\"text-align: center;\">\n",
    "    <h2><b>Part 1 - Dichotomy method</b></h2>\n",
    "</div>\n",
    "The method works by iteratively reducing the interval size based on the comparison of function values at two symmetric points near the midpoint of the current interval.\n",
    "\n",
    "**Flowchart**  \n",
    "1. Initialize the interval $[a, b]$ and a precision threshold $\\varepsilon > 0$.\n",
    "2. Compute the midpoint $m = \\frac{a + b}{2}$.\n",
    "4. Compare $f(a)$ and $f(m)$:\n",
    "   - If $f(a) < f(m)$, the minimum lies in $[a, m]$. We set $b = m$.\n",
    "   - Otherwise, the minimum lies in $[m, b]$. We set $a = m$.\n",
    "5. Repeat steps 2–4 until $|b - a| < \\varepsilon$.\n",
    "6. Approximate the minimum as $m = \\frac{a + b}{2}$."
   ]
  },
  {
   "cell_type": "markdown",
   "metadata": {},
   "source": [
    "#### **Question 1** ###\n",
    "Here we want to solve the problem $f'(t) = 0$, since we are looking for the extremums of $f$. We then need $f\\in\\mathcal{C}^1$, and $f(a)*f(b)\\leq0$, such that we ensure there exists $t^* \\in I$ such that $f'(t^*)=0$."
   ]
  },
  {
   "cell_type": "markdown",
   "metadata": {},
   "source": [
    "#### **Question 2** ###\n",
    "Here is the implementation of the dichotomy method for $f:x\\in[0,2]\\mapsto x^2-2\\sin(x)$, with a threshold of $\\varepsilon:=10^{-5}$."
   ]
  },
  {
   "cell_type": "code",
   "execution_count": 1,
   "metadata": {},
   "outputs": [
    {
     "name": "stdout",
     "output_type": "stream",
     "text": [
      "Dichotomy method: minimum at 0.7390861511230469, found in 18 iterations.\n"
     ]
    }
   ],
   "source": [
    "import numpy as np\n",
    "\n",
    "def dichotomy_method(f, interval, precision):\n",
    "    \"\"\"\n",
    "    Dichotomy method for finding the minimum of a unimodal function.\n",
    "\n",
    "    Parameters:\n",
    "    f (callable): The function to minimize.\n",
    "    interval (tuple): The initial interval [a, b].\n",
    "    precision (float): Desired precision.\n",
    "\n",
    "    Returns:\n",
    "    float: Approximation of the minimum.\n",
    "    int: Number of iterations performed.\n",
    "    \"\"\"\n",
    "    a, b = interval\n",
    "    iterations = 0\n",
    "    while np.abs(b - a) > precision:\n",
    "        midpoint = (a + b) / 2\n",
    "        if f(a) * f(midpoint) < 0:\n",
    "            b = midpoint\n",
    "        else:\n",
    "            a = midpoint\n",
    "\n",
    "        iterations += 1\n",
    "    return (a + b) / 2, iterations\n",
    "\n",
    "# Minimizing f(x) = 2*x - 2*sin(x) on [0, 2]\n",
    "def df(x):\n",
    "    return 2*x - 2 * np.cos(x)\n",
    "\n",
    "# Parameters\n",
    "a, b = 0, 2\n",
    "interval = (a, b)\n",
    "precision = 1e-5\n",
    "\n",
    "if df(a) * df(b) >= 0:\n",
    "    print(\"the function doesn't change sign at the endpoints of the interval\")\n",
    "\n",
    "minimum, iterations = dichotomy_method(df, interval, precision)\n",
    "print(f\"Dichotomy method: minimum at {minimum}, found in {iterations} iterations.\")"
   ]
  },
  {
   "cell_type": "markdown",
   "metadata": {},
   "source": [
    "Thus, $f$ admits an extremum at 0.73908. In general, $k$ iterations are required, where $k$ satisfies the inequality $\\frac{b_0 - a_0}{2^k} \\leq \\varepsilon$. This implies that \n",
    "$$\n",
    "k \\geq \\frac{\\ln((b_0 - a_0) / \\varepsilon)}{\\ln(2)}.\n",
    "$$"
   ]
  },
  {
   "cell_type": "markdown",
   "metadata": {},
   "source": [
    "#### **Question 3** ###\n",
    "Here is the implementation of dichotomy method with SciPy library."
   ]
  },
  {
   "cell_type": "code",
   "execution_count": 2,
   "metadata": {},
   "outputs": [
    {
     "name": "stdout",
     "output_type": "stream",
     "text": [
      "Dichotomy method: minimum at 0.7390823364257812 with scipy.\n"
     ]
    }
   ],
   "source": [
    "import numpy as np\n",
    "from scipy.optimize import bisect\n",
    "\n",
    "def df(x):\n",
    "    return 2*x - 2 * np.cos(x)\n",
    "\n",
    "# Parameters\n",
    "a, b = 0, 2\n",
    "\n",
    "minimum = bisect(df, a, b, xtol = 1e-5)\n",
    "print(f\"Dichotomy method: minimum at {minimum} with scipy.\")"
   ]
  },
  {
   "cell_type": "markdown",
   "metadata": {},
   "source": [
    "<div style=\"text-align: center;\">\n",
    "    <h2><b>Part 2 - Newton's method</b></h2>\n",
    "</div>\n",
    "The method uses the first derivative of a function to iteratively converge to a zero. Starting from an initial guess, it refines the estimate by approximating the tangent line at each step.\n",
    "\n",
    "**Flowchart**  \n",
    "1. Choose an initial guess $x_0$ and a precision threshold $\\varepsilon > 0$.\n",
    "2. Compute the next estimate using the formula:\n",
    "   $$\n",
    "   x_{n+1} = x_n - \\frac{f(x_n)}{f'(x_n)}.\n",
    "   $$\n",
    "3. Check for convergence:\n",
    "   - If $|f(x_n)| < \\varepsilon$, stop the iteration. The current estimate $x_n$ is the zero.\n",
    "   - Otherwise, set $x_n = x_{n+1}$ and repeat step 2.\n",
    "5. Output the approximate zero $x_n$ when convergence is achieved (sufficiently close to our threshold).\n"
   ]
  },
  {
   "cell_type": "markdown",
   "metadata": {},
   "source": [
    "#### **Question 4** ####\n",
    "Since we are aiming to find a minimum, we apply the method to its first derivative. For this method to work in this context, we need $f$ to be sufficiently regular: at least $\\mathcal{C}^3$, and its second derivative must be non-zero. It is worth noting that if the second derivative $f''$ changes its sign, Newton's method can either fail or converge to a local minimum. The Newton iterates will then be $$x_{n+1}=x_n-\\frac{f'(x_n)}{f''(x_n)}.$$\n"
   ]
  },
  {
   "cell_type": "markdown",
   "metadata": {},
   "source": [
    "#### **Question 5** ####\n",
    "Here is the implementation of Newton algorithm."
   ]
  },
  {
   "cell_type": "code",
   "execution_count": 3,
   "metadata": {},
   "outputs": [
    {
     "name": "stdout",
     "output_type": "stream",
     "text": [
      "Newton's Method: minimum at 0.739085133385284, found in 3 iterations.\n",
      "Iterates leading to the result: [1, 0.7503638678402439, 0.7391128909113617, 0.739085133385284]\n"
     ]
    }
   ],
   "source": [
    "import numpy as np\n",
    "\n",
    "def newton_method(f, df, x0, tol, max_iter=100):\n",
    "    \"\"\"\n",
    "    Newton's method for finding a zero of a function.\n",
    "\n",
    "    Parameters:\n",
    "    f (callable): The function for which we are finding the zero.\n",
    "    df (callable): The derivative of the function.\n",
    "    x0 (float): Initial guess.\n",
    "    tol (float): Tolerance for convergence.\n",
    "    max_iter (int): Maximum number of iterations.\n",
    "\n",
    "    Returns:\n",
    "    float: Approximation of the zero.\n",
    "    int: Number of iterations performed.\n",
    "    list: List of iterates.\n",
    "    \"\"\"\n",
    "    x = x0\n",
    "    iterates = [x0]  # Store all iterates\n",
    "    for i in range(max_iter):\n",
    "        if abs(f(x)) < tol:\n",
    "            return x, i, iterates\n",
    "        if df(x) == 0:\n",
    "            raise ValueError(\"ERROR: Derivative is zero. Newton's method fails.\")\n",
    "        x = x - f(x) / df(x)\n",
    "        iterates.append(x)\n",
    "\n",
    "    raise ValueError(\"ERROR: Newton's method did not converge within the maximum number of iterations.\")\n",
    "\n",
    "def f(x):\n",
    "    return 2 * x - 2 * np.cos(x)\n",
    "\n",
    "def df(x):\n",
    "    return 2 + 2 * np.sin(x)\n",
    "\n",
    "# Parameters\n",
    "a, b = 0, 2\n",
    "x0 = 1\n",
    "epsilon = 1e-5\n",
    "\n",
    "# Call Newton's method\n",
    "minimum, iterations, iterates = newton_method(f, df, x0, epsilon)\n",
    "print(f\"Newton's Method: minimum at {minimum}, found in {iterations} iterations.\")\n",
    "print(f\"Iterates leading to the result: {iterates}\")"
   ]
  },
  {
   "cell_type": "markdown",
   "metadata": {},
   "source": [
    "**Why does this actually work ?**   \n",
    "The equation of the tangent line to the curve $f(x)$ at the point $(x_n, f(x_n))$ is:\n",
    "   $$\n",
    "   y = f(x_n) + f'(x_n)(x - x_n),\n",
    "   $$\n",
    "   where $f'(x_n)$ is the slope of the tangent. Rearranging to isolate $x$, we get:\n",
    "   $$\n",
    "   x = x_n - \\frac{f(x_n)}{f'(x_n)}.\n",
    "   $$\n",
    "Using this process iteratively, we then get:\n",
    "   $$\n",
    "   x_{n+1} = x_n - \\frac{f(x_n)}{f'(x_n)}.\n",
    "   $$\n",
    "The term $ \\frac{f(x)}{f'(x)} $ represents a correction to the current estimate $ x_n $:\n",
    "- $ f(x_n) $ represents how far the estimate is from zero.\n",
    "- $ f'(x_n) $ is the slope, tells us how steep the curve is near $x_n$.\n",
    "The steeper the curve, the smaller the correction, because the function changes quickly. If the curve is flatter, the correction is larger to compensate for the slower change."
   ]
  },
  {
   "cell_type": "markdown",
   "metadata": {},
   "source": [
    "<div style=\"text-align: center;\">\n",
    "    <h2><b>Part 3 - Golden section method</b></h2>\n",
    "</div>\n",
    "This method requires fewer assumptions about the function's regularity compared to other methods like Newton's method.\n",
    "\n",
    "**Flowchart** \n",
    "1. Define the interval $[a, b]$ and the desired precision $\\text{precision} > 0$.\n",
    "2. Initialize two points within the interval:\n",
    "   $$\n",
    "   x_1 = a + (1 - \\rho)(b - a), \\quad x_2 = a + \\rho(b - a).\n",
    "   $$\n",
    "   where $\\rho$ is the golden ratio\n",
    "   $$\n",
    "   \\rho = \\frac{1+\\sqrt{5}}{2}.\n",
    "   $$\n",
    "3. Compare the function values at these points:\n",
    "   - If $f(x_1) < f(x_2)$, the minimum lies in $[a, x_2]$. Update $b = x_2$, $x_2=x_1$ and $$x_1 = \\frac{a}{\\rho}+\\left(1-\\frac{1}{\\rho}\\right)b.$$\n",
    "   - Otherwise, the minimum lies in $[x_1, b]$. Update $a = x_1$, $x_1=x_2$ and $$x_2 =\\frac{b}{\\rho}+\\left(1-\\frac{1}{\\rho} \\right) a.$$\n",
    "4. Repeat step 3 until $\\vert b - a \\vert < \\text{precision}$.\n",
    "5. Approximate the minimum as:\n",
    "   $$\n",
    "   \\frac{a + b}{2}.\n",
    "   $$"
   ]
  },
  {
   "cell_type": "markdown",
   "metadata": {},
   "source": [
    "#### **Question 6** ####\n",
    "We now provide an implementation of golden section method."
   ]
  },
  {
   "cell_type": "code",
   "execution_count": 4,
   "metadata": {},
   "outputs": [
    {
     "name": "stdout",
     "output_type": "stream",
     "text": [
      "Golden Section method: minimum at 0.7390861927011783, found in 26 iterations.\n"
     ]
    }
   ],
   "source": [
    "import numpy as np\n",
    "\n",
    "def golden_section_method(f, a, b, precision):\n",
    "    \"\"\"\n",
    "    Implements the Golden Section method for finding the minimum of a unimodal function.\n",
    "\n",
    "    Parameters:\n",
    "    f (callable): The unimodal function to minimize.\n",
    "    a (float): Left endpoint of the interval.\n",
    "    b (float): Right endpoint of the interval.\n",
    "    precision (float): Desired precision for the minimum.\n",
    "\n",
    "    Returns:\n",
    "    float: Approximation of the minimum.\n",
    "    int: Number of iterations performed.\n",
    "    \"\"\"\n",
    "    rho = (1 + np.sqrt(5)) / 2 \n",
    "    x1 = a/rho + (1 - 1/rho) * b \n",
    "    x2 = b/rho + (1 - 1/rho) * a\n",
    "    iterations = 0\n",
    "\n",
    "    while abs(b - a) > precision:\n",
    "        if f(x1) < f(x2):\n",
    "            b = x2\n",
    "            x2 = x1\n",
    "            x1 = a/rho + (1 - 1/rho) * b \n",
    "        else:\n",
    "            a = x1\n",
    "            x1 = x2\n",
    "            x2 = b/rho + (1 - 1/rho) * a\n",
    "\n",
    "        iterations += 1\n",
    "\n",
    "    return (a + b) / 2, iterations\n",
    "\n",
    "def f(x):\n",
    "    return x**2 - 2 * np.sin(x)\n",
    "\n",
    "# Parameters\n",
    "a, b = 0, 2\n",
    "precision = 1e-5\n",
    "\n",
    "# Call the Golden Section method\n",
    "minimum, iterations = golden_section_method(f, a, b, precision)\n",
    "print(f\"Golden Section method: minimum at {minimum}, found in {iterations} iterations.\")"
   ]
  },
  {
   "cell_type": "markdown",
   "metadata": {},
   "source": [
    "#### **Question 7** ####\n",
    "Let's compare our algorithm with the one from SciPy library."
   ]
  },
  {
   "cell_type": "code",
   "execution_count": 5,
   "metadata": {},
   "outputs": [
    {
     "name": "stdout",
     "output_type": "stream",
     "text": [
      "Golden Section method: minimum at 0.7390870601394663 with scipy.\n"
     ]
    }
   ],
   "source": [
    "from scipy.optimize import golden\n",
    "\n",
    "def f(x):\n",
    "    return x**2 - 2 * np.sin(x)\n",
    "\n",
    "# Parameters\n",
    "interval = (0, 2)\n",
    "precision = 1e-5\n",
    "\n",
    "minimum = golden(f, brack=interval, tol=precision)\n",
    "print(f\"Golden Section method: minimum at {minimum} with scipy.\")"
   ]
  },
  {
   "cell_type": "markdown",
   "metadata": {},
   "source": [
    "#### **Question 8** ####\n",
    "Now we compare the three schemes in a single code, with respect to number of iterations and computation time."
   ]
  },
  {
   "cell_type": "code",
   "execution_count": 6,
   "metadata": {},
   "outputs": [
    {
     "name": "stdout",
     "output_type": "stream",
     "text": [
      "Dichotomy: Minimum at 3.032642364501953, Iterations: 18, Time: 0.00007 s\n",
      "Newton: Minimum at 3.032645466853043, Iterations: 3, Time: 0.00003 s\n",
      "Golden Section: Minimum at 3.0326441743922623, Iterations: 26, Time: 0.00005 s\n"
     ]
    },
    {
     "data": {
      "image/png": "[encoded data removed]",
      "text/plain": [
       "<Figure size 1000x600 with 1 Axes>"
      ]
     },
     "metadata": {},
     "output_type": "display_data"
    }
   ],
   "source": [
    "import numpy as np\n",
    "import matplotlib.pyplot as plt\n",
    "from time import time\n",
    "from scipy.optimize import bisect, golden\n",
    "\n",
    "# Parameters\n",
    "a, b = 2, 4\n",
    "x0 = 2.5\n",
    "precision = 1e-5\n",
    "\n",
    "# Define the function and its derivatives\n",
    "def f(x):\n",
    "    return -1 / x + np.cos(x)\n",
    "\n",
    "def df(x):\n",
    "    return 1 / x**2 - np.sin(x)\n",
    "\n",
    "def d2f(x):\n",
    "    return -2 / x**3 - np.cos(x)\n",
    "\n",
    "# Dichotomy Method\n",
    "def dichotomy_method(f, interval, precision):\n",
    "    a, b = interval\n",
    "    iterations = 0\n",
    "    while abs(b - a) > precision:\n",
    "        midpoint = (a + b) / 2\n",
    "        if f(a) * f(midpoint) < 0:\n",
    "            b = midpoint\n",
    "        else:\n",
    "            a = midpoint\n",
    "\n",
    "        iterations += 1\n",
    "    return (a + b) / 2, iterations\n",
    "\n",
    "# Newton's Method\n",
    "def newton_method(f, df, x0, tol, max_iter=100):\n",
    "    x = x0\n",
    "    iterates = [x0]\n",
    "    for i in range(max_iter):\n",
    "        if abs(f(x)) < tol:\n",
    "            return x, i, iterates\n",
    "        if df(x) == 0:\n",
    "            raise ValueError(\"ERROR: Derivative is zero. Newton's method fails.\")\n",
    "        x = x - f(x) / df(x)\n",
    "        iterates.append(x)\n",
    "\n",
    "    raise ValueError(\"ERROR: Newton's method did not converge within the maximum number of iterations.\")\n",
    "\n",
    "# Golden Section Method\n",
    "def golden_section_method(f, a, b, precision):\n",
    "    rho = (1 + np.sqrt(5)) / 2 \n",
    "    x1 = a/rho + (1 - 1/rho) * b \n",
    "    x2 = b/rho + (1 - 1/rho) * a\n",
    "    iterations = 0\n",
    "\n",
    "    while abs(b - a) > precision:\n",
    "        if f(x1) < f(x2):\n",
    "            b = x2\n",
    "            x2 = x1\n",
    "            x1 = a/rho + (1 - 1/rho) * b \n",
    "        else:\n",
    "            a = x1\n",
    "            x1 = x2\n",
    "            x2 = b/rho + (1 - 1/rho) * a\n",
    "\n",
    "        iterations += 1\n",
    "\n",
    "    return (a + b) / 2, iterations\n",
    "\n",
    "# Comparison\n",
    "# 1 - Dichotomy\n",
    "start = time()\n",
    "dichotomy_min, dichotomy_iter = dichotomy_method(df, (a, b), precision)\n",
    "dichotomy_time = time() - start\n",
    "\n",
    "# 2 - Newton\n",
    "start = time()\n",
    "newton_min, newton_iter, newton_iterates = newton_method(df, d2f, x0, precision)\n",
    "newton_time = time() - start\n",
    "\n",
    "# 3 - Golden section\n",
    "start = time()\n",
    "golden_min, golden_iter = golden_section_method(f, a, b, precision)\n",
    "golden_time = time() - start\n",
    "\n",
    "\n",
    "# Print results\n",
    "print(f\"Dichotomy: Minimum at {dichotomy_min}, Iterations: {dichotomy_iter}, Time: {dichotomy_time:.5f} s\")\n",
    "print(f\"Newton: Minimum at {newton_min}, Iterations: {newton_iter}, Time: {newton_time:.5f} s\")\n",
    "print(f\"Golden Section: Minimum at {golden_min}, Iterations: {golden_iter}, Time: {golden_time:.5f} s\")\n",
    "\n",
    "# Plot the function and Newton's iterates\n",
    "x = np.linspace(a, b, 1000)\n",
    "y = f(x)\n",
    "\n",
    "plt.figure(figsize=(10, 6))\n",
    "plt.plot(x, y, label=\"f(x) = -1/x + cos(x)\")\n",
    "plt.scatter(newton_iterates, [f(xi) for xi in newton_iterates], color=\"red\", label=\"Newton's iterates\")\n",
    "plt.xlabel(\"x\")\n",
    "plt.ylabel(\"f(x)\")\n",
    "plt.title(\"Comparison of Methods with Newton's Iterates\")\n",
    "plt.legend()\n",
    "plt.grid()\n",
    "plt.show()\n"
   ]
  }
 ],
 "metadata": {
  "kernelspec": {
   "display_name": "Python 3",
   "language": "python",
   "name": "python3"
  },
  "language_info": {
   "codemirror_mode": {
    "name": "ipython",
    "version": 3
   },
   "file_extension": ".py",
   "mimetype": "text/x-python",
   "name": "python",
   "nbconvert_exporter": "python",
   "pygments_lexer": "ipython3",
   "version": "3.10.15"
  }
 },
 "nbformat": 4,
 "nbformat_minor": 2
}
